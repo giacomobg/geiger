{
 "cells": [
  {
   "cell_type": "code",
   "execution_count": 40,
   "metadata": {},
   "outputs": [],
   "source": [
    "import pandas as pd\n",
    "import nltk\n",
    "import numpy"
   ]
  },
  {
   "cell_type": "code",
   "execution_count": 5,
   "metadata": {
    "scrolled": true
   },
   "outputs": [
    {
     "data": {
      "text/plain": [
       "Index(['id', 'comment_text', 'toxic', 'severe_toxic', 'obscene', 'threat',\n",
       "       'insult', 'identity_hate'],\n",
       "      dtype='object')"
      ]
     },
     "execution_count": 5,
     "metadata": {},
     "output_type": "execute_result"
    }
   ],
   "source": [
    "df = pd.read_csv('/Users/yetiancl/Dropbox/Kaggle/toxic/train.csv')\n",
    "df.columns"
   ]
  },
  {
   "cell_type": "code",
   "execution_count": null,
   "metadata": {},
   "outputs": [],
   "source": [
    "## get locations of negation "
   ]
  },
  {
   "cell_type": "code",
   "execution_count": 249,
   "metadata": {},
   "outputs": [],
   "source": [
    "def find_string(wordlist,string):\n",
    "    return [i for i, x in enumerate(wordlist) if x == string]\n",
    "\n",
    "nt_loc = df['comment_text'].apply(lambda x: [find_string(nltk.word_tokenize(x),\"n't\")])\n",
    "\n",
    "nt_loc = nt_loc.apply(lambda x: x[0] if len(x[0]) > 0 else [])"
   ]
  },
  {
   "cell_type": "code",
   "execution_count": 252,
   "metadata": {
    "scrolled": true
   },
   "outputs": [],
   "source": [
    "not_loc = df['comment_text'].apply(lambda x: [find_string(nltk.word_tokenize(x),\"not\")])\n",
    "not_loc = not_loc.apply(lambda x: x[0] if len(x[0]) > 0 else [])"
   ]
  },
  {
   "cell_type": "code",
   "execution_count": 293,
   "metadata": {},
   "outputs": [],
   "source": [
    "df = df.assign(neg_loc = nt_loc + not_loc)"
   ]
  },
  {
   "cell_type": "markdown",
   "metadata": {},
   "source": [
    "## get locations of bad words and ethnic slurs"
   ]
  },
  {
   "cell_type": "code",
   "execution_count": 172,
   "metadata": {},
   "outputs": [],
   "source": [
    "badword_list = pd.read_csv(\"../bad_word_list.csv\",encoding=\"latin1\",header=None)\n",
    "badword_list = badword_list[0].tolist()"
   ]
  },
  {
   "cell_type": "code",
   "execution_count": 258,
   "metadata": {},
   "outputs": [],
   "source": [
    "ethnic_slurs = pd.read_csv(\"../ethnic_slurs.csv\",header=None)\n",
    "ethnic_slurs = ethnic_slurs[0].tolist()"
   ]
  },
  {
   "cell_type": "code",
   "execution_count": 164,
   "metadata": {},
   "outputs": [],
   "source": [
    "df['comment_list'] = df['comment_text'].apply(lambda x: nltk.word_tokenize(x))"
   ]
  },
  {
   "cell_type": "code",
   "execution_count": 226,
   "metadata": {
    "scrolled": true
   },
   "outputs": [],
   "source": [
    "df['has_bad'] = df['comment_list'].apply(lambda x: set(x).intersection(set(badword_list)))"
   ]
  },
  {
   "cell_type": "code",
   "execution_count": 223,
   "metadata": {},
   "outputs": [],
   "source": [
    "def get_bad_loc(df):\n",
    "    wordlist = df['comment_list']\n",
    "    bad_loc = []\n",
    "    if len(df['has_bad']) > 0: \n",
    "        for word in df['has_bad']:\n",
    "            loc_this = find_string(wordlist,word)\n",
    "            if len(loc_this) >0:  \n",
    "                bad_loc = bad_loc + loc_this\n",
    "    return bad_loc\n",
    "\n",
    "df['bad_loc'] = df.apply(get_bad_loc, axis = 1)"
   ]
  },
  {
   "cell_type": "code",
   "execution_count": 224,
   "metadata": {
    "scrolled": false
   },
   "outputs": [],
   "source": []
  },
  {
   "cell_type": "code",
   "execution_count": 290,
   "metadata": {},
   "outputs": [],
   "source": [
    "df['has_ethnic'] = df['comment_list'].apply(lambda x: set(x).intersection(set(ethnic_slurs)))"
   ]
  },
  {
   "cell_type": "code",
   "execution_count": 289,
   "metadata": {
    "scrolled": true
   },
   "outputs": [
    {
     "data": {
      "text/plain": [
       "False    159319\n",
       "True        252\n",
       "Name: has_ethnic, dtype: int64"
      ]
     },
     "execution_count": 289,
     "metadata": {},
     "output_type": "execute_result"
    }
   ],
   "source": [
    "ethnic = df['has_ethnic'].apply(lambda x: len(x) > 0)\n",
    "ethnic.value_counts()"
   ]
  },
  {
   "cell_type": "code",
   "execution_count": 291,
   "metadata": {},
   "outputs": [],
   "source": [
    "def get_ethnic_loc(df):\n",
    "    wordlist = df['comment_list']\n",
    "    ethnic_loc = []\n",
    "    if len(df['has_ethnic']) > 0: \n",
    "        for word in df['has_ethnic']:\n",
    "            loc_this = find_string(wordlist,word)\n",
    "            if len(loc_this) >0:  \n",
    "                ethnic_loc = ethnic_loc + loc_this\n",
    "    return ethnic_loc\n",
    "\n",
    "df['ethnic_loc'] = df.apply(get_ethnic_loc, axis = 1)"
   ]
  },
  {
   "cell_type": "markdown",
   "metadata": {},
   "source": [
    "##  check if bad words and ethnic slurs were negated, if there is a neg word within 5 words before them"
   ]
  },
  {
   "cell_type": "code",
   "execution_count": 306,
   "metadata": {},
   "outputs": [],
   "source": [
    "neg = [11, 30, 56]\n",
    "shit = [13, 33]"
   ]
  },
  {
   "cell_type": "code",
   "execution_count": 310,
   "metadata": {},
   "outputs": [],
   "source": [
    "def which_bad_negated(df):\n",
    "    neg = df['neg_loc']\n",
    "    shit = df['bad_loc']\n",
    "    negated = []\n",
    "    for i in shit:\n",
    "        negated = negated + [x for x in neg if (i-5) < x < i]\n",
    "    return negated"
   ]
  },
  {
   "cell_type": "code",
   "execution_count": 313,
   "metadata": {},
   "outputs": [],
   "source": [
    "df['which_bad_negated'] = df.apply(which_bad_negated, axis = 1)"
   ]
  },
  {
   "cell_type": "code",
   "execution_count": 314,
   "metadata": {},
   "outputs": [],
   "source": [
    "def which_ethnic_negated(df):\n",
    "    neg = df['neg_loc']\n",
    "    ethnic = df['ethnic_loc']\n",
    "    negated = []\n",
    "    for i in ethnic:\n",
    "        negated = negated + [x for x in neg if (i-5) < x < i]\n",
    "    return negated\n",
    "\n",
    "df['which_ethnic_negated'] = df.apply(which_ethnic_negated, axis = 1)"
   ]
  },
  {
   "cell_type": "code",
   "execution_count": null,
   "metadata": {},
   "outputs": [],
   "source": []
  },
  {
   "cell_type": "code",
   "execution_count": null,
   "metadata": {},
   "outputs": [],
   "source": [
    "## get location of \"you\""
   ]
  }
 ],
 "metadata": {
  "kernelspec": {
   "display_name": "Python 3",
   "language": "python",
   "name": "python3"
  },
  "language_info": {
   "codemirror_mode": {
    "name": "ipython",
    "version": 3
   },
   "file_extension": ".py",
   "mimetype": "text/x-python",
   "name": "python",
   "nbconvert_exporter": "python",
   "pygments_lexer": "ipython3",
   "version": "3.6.4"
  }
 },
 "nbformat": 4,
 "nbformat_minor": 2
}
